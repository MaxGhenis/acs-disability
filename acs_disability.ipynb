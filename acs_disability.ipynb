{
 "cells": [
  {
   "cell_type": "markdown",
   "metadata": {},
   "source": [
    "# ACS disability dashboard\n",
    "\n",
    "## Setup\n",
    "\n",
    "### Imports"
   ]
  },
  {
   "cell_type": "code",
   "execution_count": 1,
   "metadata": {},
   "outputs": [],
   "source": [
    "import pandas as pd"
   ]
  },
  {
   "cell_type": "markdown",
   "metadata": {},
   "source": [
    "### Load data"
   ]
  },
  {
   "cell_type": "code",
   "execution_count": 6,
   "metadata": {},
   "outputs": [],
   "source": [
    "df = pd.read_csv('/home/mghenis/usa_00009.csv.gz')"
   ]
  },
  {
   "cell_type": "code",
   "execution_count": 7,
   "metadata": {},
   "outputs": [
    {
     "data": {
      "text/html": [
       "<div>\n",
       "<style scoped>\n",
       "    .dataframe tbody tr th:only-of-type {\n",
       "        vertical-align: middle;\n",
       "    }\n",
       "\n",
       "    .dataframe tbody tr th {\n",
       "        vertical-align: top;\n",
       "    }\n",
       "\n",
       "    .dataframe thead th {\n",
       "        text-align: right;\n",
       "    }\n",
       "</style>\n",
       "<table border=\"1\" class=\"dataframe\">\n",
       "  <thead>\n",
       "    <tr style=\"text-align: right;\">\n",
       "      <th></th>\n",
       "      <th>RECTYPE</th>\n",
       "      <th>YEAR</th>\n",
       "      <th>SAMPLE</th>\n",
       "      <th>SERIAL</th>\n",
       "      <th>CBSERIAL</th>\n",
       "      <th>HHWT</th>\n",
       "      <th>STATEFIP</th>\n",
       "      <th>COUNTYFIP</th>\n",
       "      <th>MET2013</th>\n",
       "      <th>CITY</th>\n",
       "      <th>...</th>\n",
       "      <th>EMPSTATD</th>\n",
       "      <th>OCC</th>\n",
       "      <th>IND</th>\n",
       "      <th>DIFFREM</th>\n",
       "      <th>DIFFPHYS</th>\n",
       "      <th>DIFFMOB</th>\n",
       "      <th>DIFFCARE</th>\n",
       "      <th>DIFFSENS</th>\n",
       "      <th>DIFFEYE</th>\n",
       "      <th>DIFFHEAR</th>\n",
       "    </tr>\n",
       "  </thead>\n",
       "  <tbody>\n",
       "    <tr>\n",
       "      <th>0</th>\n",
       "      <td>H</td>\n",
       "      <td>2017</td>\n",
       "      <td>201701</td>\n",
       "      <td>1</td>\n",
       "      <td>2017000000016</td>\n",
       "      <td>206</td>\n",
       "      <td>1</td>\n",
       "      <td>0</td>\n",
       "      <td>0</td>\n",
       "      <td>0</td>\n",
       "      <td>...</td>\n",
       "      <td>30</td>\n",
       "      <td>0</td>\n",
       "      <td>0</td>\n",
       "      <td>2</td>\n",
       "      <td>2</td>\n",
       "      <td>1</td>\n",
       "      <td>1</td>\n",
       "      <td>1</td>\n",
       "      <td>1</td>\n",
       "      <td>1</td>\n",
       "    </tr>\n",
       "    <tr>\n",
       "      <th>1</th>\n",
       "      <td>H</td>\n",
       "      <td>2017</td>\n",
       "      <td>201701</td>\n",
       "      <td>2</td>\n",
       "      <td>2017000000031</td>\n",
       "      <td>45</td>\n",
       "      <td>1</td>\n",
       "      <td>0</td>\n",
       "      <td>0</td>\n",
       "      <td>0</td>\n",
       "      <td>...</td>\n",
       "      <td>10</td>\n",
       "      <td>350</td>\n",
       "      <td>8090</td>\n",
       "      <td>1</td>\n",
       "      <td>1</td>\n",
       "      <td>1</td>\n",
       "      <td>1</td>\n",
       "      <td>1</td>\n",
       "      <td>1</td>\n",
       "      <td>1</td>\n",
       "    </tr>\n",
       "    <tr>\n",
       "      <th>2</th>\n",
       "      <td>H</td>\n",
       "      <td>2017</td>\n",
       "      <td>201701</td>\n",
       "      <td>3</td>\n",
       "      <td>2017000000061</td>\n",
       "      <td>136</td>\n",
       "      <td>1</td>\n",
       "      <td>0</td>\n",
       "      <td>0</td>\n",
       "      <td>0</td>\n",
       "      <td>...</td>\n",
       "      <td>10</td>\n",
       "      <td>6260</td>\n",
       "      <td>770</td>\n",
       "      <td>1</td>\n",
       "      <td>1</td>\n",
       "      <td>1</td>\n",
       "      <td>1</td>\n",
       "      <td>1</td>\n",
       "      <td>1</td>\n",
       "      <td>1</td>\n",
       "    </tr>\n",
       "    <tr>\n",
       "      <th>3</th>\n",
       "      <td>H</td>\n",
       "      <td>2017</td>\n",
       "      <td>201701</td>\n",
       "      <td>3</td>\n",
       "      <td>2017000000061</td>\n",
       "      <td>136</td>\n",
       "      <td>1</td>\n",
       "      <td>0</td>\n",
       "      <td>0</td>\n",
       "      <td>0</td>\n",
       "      <td>...</td>\n",
       "      <td>30</td>\n",
       "      <td>0</td>\n",
       "      <td>0</td>\n",
       "      <td>1</td>\n",
       "      <td>1</td>\n",
       "      <td>1</td>\n",
       "      <td>1</td>\n",
       "      <td>1</td>\n",
       "      <td>1</td>\n",
       "      <td>1</td>\n",
       "    </tr>\n",
       "    <tr>\n",
       "      <th>4</th>\n",
       "      <td>H</td>\n",
       "      <td>2017</td>\n",
       "      <td>201701</td>\n",
       "      <td>3</td>\n",
       "      <td>2017000000061</td>\n",
       "      <td>136</td>\n",
       "      <td>1</td>\n",
       "      <td>0</td>\n",
       "      <td>0</td>\n",
       "      <td>0</td>\n",
       "      <td>...</td>\n",
       "      <td>30</td>\n",
       "      <td>0</td>\n",
       "      <td>0</td>\n",
       "      <td>1</td>\n",
       "      <td>1</td>\n",
       "      <td>1</td>\n",
       "      <td>1</td>\n",
       "      <td>1</td>\n",
       "      <td>1</td>\n",
       "      <td>1</td>\n",
       "    </tr>\n",
       "  </tbody>\n",
       "</table>\n",
       "<p>5 rows × 36 columns</p>\n",
       "</div>"
      ],
      "text/plain": [
       "  RECTYPE  YEAR  SAMPLE  SERIAL       CBSERIAL  HHWT  STATEFIP  COUNTYFIP  \\\n",
       "0       H  2017  201701       1  2017000000016   206         1          0   \n",
       "1       H  2017  201701       2  2017000000031    45         1          0   \n",
       "2       H  2017  201701       3  2017000000061   136         1          0   \n",
       "3       H  2017  201701       3  2017000000061   136         1          0   \n",
       "4       H  2017  201701       3  2017000000061   136         1          0   \n",
       "\n",
       "   MET2013  CITY  ...  EMPSTATD   OCC   IND  DIFFREM  DIFFPHYS  DIFFMOB  \\\n",
       "0        0     0  ...        30     0     0        2         2        1   \n",
       "1        0     0  ...        10   350  8090        1         1        1   \n",
       "2        0     0  ...        10  6260   770        1         1        1   \n",
       "3        0     0  ...        30     0     0        1         1        1   \n",
       "4        0     0  ...        30     0     0        1         1        1   \n",
       "\n",
       "   DIFFCARE  DIFFSENS  DIFFEYE  DIFFHEAR  \n",
       "0         1         1        1         1  \n",
       "1         1         1        1         1  \n",
       "2         1         1        1         1  \n",
       "3         1         1        1         1  \n",
       "4         1         1        1         1  \n",
       "\n",
       "[5 rows x 36 columns]"
      ]
     },
     "execution_count": 7,
     "metadata": {},
     "output_type": "execute_result"
    }
   ],
   "source": [
    "df.head()"
   ]
  },
  {
   "cell_type": "code",
   "execution_count": 11,
   "metadata": {},
   "outputs": [
    {
     "data": {
      "text/plain": [
       "325719178"
      ]
     },
     "execution_count": 11,
     "metadata": {},
     "output_type": "execute_result"
    }
   ],
   "source": [
    "df.PERWT.sum()"
   ]
  },
  {
   "cell_type": "code",
   "execution_count": 14,
   "metadata": {},
   "outputs": [],
   "source": [
    "df.columns = map(str.lower, df.columns)"
   ]
  },
  {
   "cell_type": "code",
   "execution_count": 15,
   "metadata": {},
   "outputs": [
    {
     "data": {
      "text/plain": [
       "Index(['rectype', 'year', 'sample', 'serial', 'cbserial', 'hhwt', 'statefip',\n",
       "       'countyfip', 'met2013', 'city', 'gq', 'pernum', 'perwt', 'sex', 'age',\n",
       "       'race', 'raced', 'hispan', 'hispand', 'educ', 'educd', 'degfield',\n",
       "       'degfieldd', 'degfield2', 'degfield2d', 'empstat', 'empstatd', 'occ',\n",
       "       'ind', 'diffrem', 'diffphys', 'diffmob', 'diffcare', 'diffsens',\n",
       "       'diffeye', 'diffhear'],\n",
       "      dtype='object')"
      ]
     },
     "execution_count": 15,
     "metadata": {},
     "output_type": "execute_result"
    }
   ],
   "source": [
    "df.columns"
   ]
  },
  {
   "cell_type": "code",
   "execution_count": 23,
   "metadata": {},
   "outputs": [
    {
     "data": {
      "text/plain": [
       "array([1, 2, 0])"
      ]
     },
     "execution_count": 23,
     "metadata": {},
     "output_type": "execute_result"
    }
   ],
   "source": [
    "df.diffmob.unique()"
   ]
  },
  {
   "cell_type": "code",
   "execution_count": 34,
   "metadata": {},
   "outputs": [
    {
     "data": {
      "text/plain": [
       "1    2468404\n",
       "0     538204\n",
       "2     183432\n",
       "Name: diffmob, dtype: int64"
      ]
     },
     "execution_count": 34,
     "metadata": {},
     "output_type": "execute_result"
    }
   ],
   "source": [
    "df.diffmob.value_counts()"
   ]
  },
  {
   "cell_type": "code",
   "execution_count": 26,
   "metadata": {},
   "outputs": [
    {
     "data": {
      "text/plain": [
       "rectype                   H\n",
       "year                   2017\n",
       "sample               201701\n",
       "serial                    4\n",
       "cbserial      2017000000158\n",
       "hhwt                     19\n",
       "statefip                  1\n",
       "countyfip                 0\n",
       "met2013                   0\n",
       "city                      0\n",
       "gq                        1\n",
       "pernum                    5\n",
       "perwt                    27\n",
       "sex                       2\n",
       "age                       3\n",
       "race                      2\n",
       "raced                   200\n",
       "hispan                    0\n",
       "hispand                   0\n",
       "educ                      0\n",
       "educd                     2\n",
       "degfield                  0\n",
       "degfieldd                 0\n",
       "degfield2                 0\n",
       "degfield2d                0\n",
       "empstat                   0\n",
       "empstatd                  0\n",
       "occ                       0\n",
       "ind                       0\n",
       "diffrem                   0\n",
       "diffphys                  0\n",
       "diffmob                   0\n",
       "diffcare                  0\n",
       "diffsens                  1\n",
       "diffeye                   1\n",
       "diffhear                  1\n",
       "Name: 9, dtype: object"
      ]
     },
     "execution_count": 26,
     "metadata": {},
     "output_type": "execute_result"
    }
   ],
   "source": [
    "df[df.diffmob == 0].iloc[1]"
   ]
  },
  {
   "cell_type": "code",
   "execution_count": null,
   "metadata": {},
   "outputs": [],
   "source": [
    "GROUPS = ['sex', 'age', 'race', 'hispan', 'educ', 'degfield',\n",
    "          'diffrem', 'diffphys', 'diffmob', 'diffcare', 'diffsens',\n",
    "          'diffeye']\n",
    "summary = df[[]]"
   ]
  }
 ],
 "metadata": {
  "kernelspec": {
   "display_name": "Python 3",
   "language": "python",
   "name": "python3"
  },
  "language_info": {
   "codemirror_mode": {
    "name": "ipython",
    "version": 3
   },
   "file_extension": ".py",
   "mimetype": "text/x-python",
   "name": "python",
   "nbconvert_exporter": "python",
   "pygments_lexer": "ipython3",
   "version": "3.7.4"
  }
 },
 "nbformat": 4,
 "nbformat_minor": 2
}
